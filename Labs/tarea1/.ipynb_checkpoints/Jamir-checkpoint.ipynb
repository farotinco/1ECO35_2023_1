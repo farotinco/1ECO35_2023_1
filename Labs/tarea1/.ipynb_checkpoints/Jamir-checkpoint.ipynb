{
 "cells": [
  {
   "cell_type": "code",
   "execution_count": 45,
   "id": "6a510dcb",
   "metadata": {},
   "outputs": [
    {
     "name": "stdout",
     "output_type": "stream",
     "text": [
      "Facultad de Ciencias Sociales \\ 2023\n"
     ]
    }
   ],
   "source": [
    "# f-string \n",
    "\n",
    "#Use F-string para crear el siguiente texto: \"Facultad de Ciencias Sociales \\ 2023\"\n",
    "\n",
    "\n",
    "c1 = \"Facultad de Ciencias Sociales\"\n",
    "\n",
    "#Use el año como la variable en la estructura f-string\n",
    "año = \"2023\"\n",
    "\n",
    "print(f'Facultad de Ciencias Sociales \\ {año}')"
   ]
  },
  {
   "cell_type": "code",
   "execution_count": 8,
   "id": "c51f9d19",
   "metadata": {},
   "outputs": [
    {
     "data": {
      "text/plain": [
       "'2023'"
      ]
     },
     "execution_count": 8,
     "metadata": {},
     "output_type": "execute_result"
    }
   ],
   "source": [
    "#Extraemos el año 2023\n",
    "\n",
    "c1[32:36]"
   ]
  },
  {
   "cell_type": "code",
   "execution_count": 10,
   "id": "804884b2",
   "metadata": {},
   "outputs": [
    {
     "data": {
      "text/plain": [
       "'Chile'"
      ]
     },
     "execution_count": 10,
     "metadata": {},
     "output_type": "execute_result"
    }
   ],
   "source": [
    "#Lista\n",
    "\n",
    "#Crear una lista de países miembros del acuerdo de la Alianza del Pacífico: Australia, Brunei Darussalam, Canadá, Corea, Chile, China, Estados Unidos, Filipinas, Hong Kong, Indonesia, Japón, Malasia.\n",
    "\n",
    "Paises = ['Australia', 'Brunei Darussalam', 'Canadá', 'Corea', 'Chile', 'China', 'Estados Unidos', 'Filipinas', 'Hong Kong', 'Indonesia', 'Japón', 'Malasia']\n",
    "\n",
    "#Use la lista creada para obtener a Chile.\n",
    "\n",
    "Paises[4]"
   ]
  },
  {
   "cell_type": "code",
   "execution_count": 13,
   "id": "edab308a",
   "metadata": {},
   "outputs": [
    {
     "data": {
      "text/plain": [
       "'Malasia'"
      ]
     },
     "execution_count": 13,
     "metadata": {},
     "output_type": "execute_result"
    }
   ],
   "source": [
    "#Use la lista creada para obtener a Malasia.\n",
    "\n",
    "Paises[11]\n",
    "\n"
   ]
  },
  {
   "cell_type": "code",
   "execution_count": 16,
   "id": "9fa35c0b",
   "metadata": {},
   "outputs": [
    {
     "data": {
      "text/plain": [
       "['China',\n",
       " 'Estados Unidos',\n",
       " 'Filipinas',\n",
       " 'Hong Kong',\n",
       " 'Indonesia',\n",
       " 'Japón',\n",
       " 'Malasia']"
      ]
     },
     "execution_count": 16,
     "metadata": {},
     "output_type": "execute_result"
    }
   ],
   "source": [
    "#Use la lista creada para obtener una lista de países desde China hasta Indonesia\n",
    "\n",
    "Paises[5:12]"
   ]
  },
  {
   "cell_type": "code",
   "execution_count": 36,
   "id": "9eb2c89a",
   "metadata": {},
   "outputs": [
    {
     "data": {
      "text/plain": [
       "['Metal', 'Metal']"
      ]
     },
     "execution_count": 36,
     "metadata": {},
     "output_type": "execute_result"
    }
   ],
   "source": [
    "#Diccionario\n",
    "\n",
    "Ciencia = {'Numero atómico': [4, 6, 47, 88], 'Masa atómica': [1.008, 12.011, 107.87, 226], 'Familia': ['No metal', 'No metal', 'Metal', 'Metal']}\n",
    "\n",
    "#Extraer las palabras \"Metal\" \n",
    "\n",
    "Ciencia.get('Familia')[2:]\n"
   ]
  },
  {
   "cell_type": "code",
   "execution_count": 37,
   "id": "6c1f8a3b",
   "metadata": {},
   "outputs": [
    {
     "data": {
      "text/plain": [
       "47"
      ]
     },
     "execution_count": 37,
     "metadata": {},
     "output_type": "execute_result"
    }
   ],
   "source": [
    "#Extraems el numero 47\n",
    "\n",
    "Ciencia.get('Numero atómico')[2]\n",
    "\n",
    "\n"
   ]
  },
  {
   "cell_type": "code",
   "execution_count": 40,
   "id": "f13b4ac1",
   "metadata": {},
   "outputs": [],
   "source": [
    "#Añade un Key llamado books que almacene los titulos de 3 libros.\n",
    "\n",
    "# keys\n",
    "Ciencia.update({'Books': [\"La riqueza de las naciones\" , \"El capital\", \"Capitalismo y libertad\"]})\n",
    "\n",
    "\n"
   ]
  },
  {
   "cell_type": "code",
   "execution_count": null,
   "id": "23c40f46",
   "metadata": {},
   "outputs": [],
   "source": []
  }
 ],
 "metadata": {
  "kernelspec": {
   "display_name": "Python 3 (ipykernel)",
   "language": "python",
   "name": "python3"
  },
  "language_info": {
   "codemirror_mode": {
    "name": "ipython",
    "version": 3
   },
   "file_extension": ".py",
   "mimetype": "text/x-python",
   "name": "python",
   "nbconvert_exporter": "python",
   "pygments_lexer": "ipython3",
   "version": "3.9.12"
  }
 },
 "nbformat": 4,
 "nbformat_minor": 5
}
